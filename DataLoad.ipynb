{
 "cells": [
  {
   "cell_type": "markdown",
   "metadata": {},
   "source": [
    "# DATASET과 DATALOADER\n",
    "<hr/>\n",
    "\n",
    "dataset code는 가독성(readability)와 모듈성(modularity)를 위해 모델 학습 코드로부터 분리하는 것이 이상적.\n",
    "\n",
    "PyTorch는 torch.utils.data.DataLoader 와 torch.utils.data.Dataset 의 두가지 데이터 기본 요소를 제공하여 미리 준비해둔(pre-loaded) 데이터셋 뿐만 아니라 가지고 있는 데이터를 사용할 수 있게 함.\n",
    "\n",
    "DataLoader는 Dataset을 샘플에 쉽게 접근할 수 있도록 iterable 객체로 감쌈.\n",
    "\n",
    "데이터셋은 torch.utils.data.Dataset의 하위 클래스로 개별 데이터를 특정하는 함수가 구현되어 있다.\n",
    "이러한 데이터셋은 모델을 만들어보고 성능을 측정하는데 사용이 가능하다.\n"
   ]
  },
  {
   "cell_type": "markdown",
   "metadata": {},
   "source": [
    "# Dataset 불러오기\n",
    "<hr/>\n",
    "\n",
    "TorchVision에서 Fashion-MNIST 데이터셋을 불러오는 예제.\n",
    "\n",
    "Fashion-MNIST\n",
    "- Zalando의 기사 이미지 데이터셋으로 60,000개의 training set과 10,000개의 test set으로 이루어져 있다.\n",
    "- grayscale 28 * 28 image\n",
    "- Label : 10개의 class 중 하나인 정답 label\n",
    "<hr/>"
   ]
  },
  {
   "cell_type": "markdown",
   "metadata": {},
   "source": [
    "다음 매개 변수들을 사용하여 FashionMNIST dataset을 불러온다.\n",
    "\n",
    "- root : training/test data 가 저장되는 경로\n",
    "- train : train용인지 test용인지 여부를 결정\n",
    "- download=True : root에 데이터가 없는 경우 인터넷에서 다운로드\n",
    "- transform / target_transform : feature와 label transform 을 지정한다."
   ]
  },
  {
   "cell_type": "code",
   "execution_count": 2,
   "metadata": {},
   "outputs": [],
   "source": [
    "import torch\n",
    "from torch.utils.data import Dataset\n",
    "from torchvision import datasets\n",
    "from torchvision.transforms import ToTensor\n",
    "import matplotlib.pyplot as plt"
   ]
  },
  {
   "cell_type": "code",
   "execution_count": 5,
   "metadata": {},
   "outputs": [],
   "source": [
    "training_data = datasets.FashionMNIST(\n",
    "    root='data',\n",
    "    train=True,\n",
    "    download=True,\n",
    "    transform=ToTensor()\n",
    ")\n",
    "\n",
    "test_data = datasets.FashionMNIST(\n",
    "    root='data',\n",
    "    train=False,\n",
    "    download=True,\n",
    "    transform=ToTensor()\n",
    ")"
   ]
  },
  {
   "cell_type": "markdown",
   "metadata": {},
   "source": [
    "# 데이터셋을 순회하고 시각화하기\n",
    "\n",
    "Dataset에 리스트처럼 직접 접근할 수 있습니다. (indexing)\n",
    "training_data[index], matplotlib을 사용하여 학습 데이터 일부 시각화하기"
   ]
  },
  {
   "cell_type": "code",
   "execution_count": 7,
   "metadata": {},
   "outputs": [
    {
     "data": {
      "image/png": "[encoded data removed]",
      "text/plain": [
       "<Figure size 576x576 with 9 Axes>"
      ]
     },
     "metadata": {
      "needs_background": "light"
     },
     "output_type": "display_data"
    }
   ],
   "source": [
    "labels_map={\n",
    "    0: 'T-Shirt',\n",
    "    1: \"Trouser\",\n",
    "    2: \"Pullover\",\n",
    "    3: \"Dress\",\n",
    "    4: \"Coat\",\n",
    "    5: \"Sandal\",\n",
    "    6: \"Shirt\",\n",
    "    7: \"Sneaker\",\n",
    "    8: \"Bag\",\n",
    "    9: \"Ankle Boot\",\n",
    "}\n",
    "\n",
    "figure = plt.figure(figsize=(8, 8))\n",
    "cols, rows = 3,3\n",
    "for i in range(1, cols * rows + 1):\n",
    "    sample_idx = torch.randint(len(training_data), size=(1,)).item()\n",
    "    img, label = training_data[sample_idx]\n",
    "    figure.add_subplot(rows, cols, i)\n",
    "    plt.title(labels_map[label])\n",
    "    plt.axis('off')\n",
    "    plt.imshow(img.squeeze(), cmap='gray')\n",
    "plt.show()\n",
    "    "
   ]
  },
  {
   "cell_type": "markdown",
   "metadata": {},
   "source": [
    "# 파일에서 사용자 정의 데이터셋 만들기\n",
    "<hr/>\n",
    "\n",
    "사용자 Dataset 클래스는 반드시 3개의 함수를 구현해야한다.\n",
    "- __inint__\n",
    "- __len__\n",
    "- __getitem__\n",
    "\n",
    "모든 만들어지는 dataset은 Dataset의 subclass로 작성되어야 한다.\n",
    "\n",
    "FashionMNIST 이미지들 -> img_dir\n",
    "Label -> annotations_file의 csv파일"
   ]
  },
  {
   "cell_type": "code",
   "execution_count": 8,
   "metadata": {},
   "outputs": [],
   "source": [
    "import os\n",
    "import pandas as pd\n",
    "from torchvision.io import read_image\n",
    "\n",
    "class CustomImageDataset(Dataset):\n",
    "    def __init__(self, annotations_file, img_dir, transform=None, target_transform=None):\n",
    "        self.img_labels = pd.read_csv(annotations_file, names=['file_name', 'label'])\n",
    "        self.img_dir = img_dir\n",
    "        self.transform = transform\n",
    "        self.target_transform = target_transform\n",
    "    \n",
    "    def __len__(self):\n",
    "        return len(self.img_labels)\n",
    "    \n",
    "    def __getitem__(self, idx):\n",
    "        img_path = os.path.join(self.img_dir, self.img_labels.iloc[idx, 0])\n",
    "        # .iloc[idx, 0]은 index로 데이터프레임의 행이나 컬럼에 접근\n",
    "        # .loc 는 데이터프레임의 행이나 컬럼에 boolean array로 접근\n",
    "        image = read_image(img_path)\n",
    "        label = self.img_labels.iloc[idx, 1]\n",
    "        if self.transform:\n",
    "            image = self.transform(image)\n",
    "        if self.target_transform:\n",
    "            label = self.target_transform(label)\n",
    "        \n",
    "        return image, label\n"
   ]
  },
  {
   "cell_type": "markdown",
   "metadata": {},
   "source": [
    "# &#95;&#95;init&#95;&#95; 함수\n",
    "\n",
    "&#95;&#95;init&#95;&#95; 함수는 Dataset 객체 생성(initiate) 시 한번만 생성.\n",
    "\n",
    "여기서는 image, annotation_file이 포함된 디렉토리와 2가지 transform을 초기화"
   ]
  },
  {
   "cell_type": "markdown",
   "metadata": {},
   "source": [
    "labels.csv는 다음과 같은 형식으로 나타난다.\n",
    "```\n",
    "tshirt1.jpg, 0\n",
    "tshirt2.jpg, 0\n",
    "......\n",
    "ankleboot999.jpg, 9\n",
    "```"
   ]
  },
  {
   "cell_type": "code",
   "execution_count": null,
   "metadata": {},
   "outputs": [],
   "source": [
    "def __init__(self, annotations_file, img_dir, transform=None, target_transform=None):\n",
    "    self.img_labels = pd.read_csv(annotations_file)\n",
    "    self.img_dir = img_dir\n",
    "    self.transform = transform\n",
    "    self.target_transform = target_transform"
   ]
  },
  {
   "cell_type": "markdown",
   "metadata": {},
   "source": [
    "# &#95;&#95;len&#95;&#95;\n",
    "\n",
    "&#95;&#95;len&#95;&#95; 함수는 데이터셋의 샘플 개수를 반환합니다."
   ]
  },
  {
   "cell_type": "code",
   "execution_count": null,
   "metadata": {},
   "outputs": [],
   "source": [
    "def __len__(self):\n",
    "    return len(self.img_labels)"
   ]
  },
  {
   "cell_type": "markdown",
   "metadata": {},
   "source": [
    "# &#95;&#95;getitem&#95;&#95;\n",
    "\n",
    "&#95;&#95;getitem&#95;&#95; 함수는 주어진 인덱스(idx)에 해당하는 샘플을 데이터셋에서 불러오고 반환.\n",
    "\n",
    "인덱스를 기반으로, 이미지의 위치를 식별\n",
    "read_image를 사용하여 이미지를 텐서로 변환 (image -> tensor)\n",
    "self.img_labels 의 csv 데이터에서 label을 가져오고, 해당하는 경우 transform 적용 뒤, 텐서image와 label을 dictionary 형태로 반환"
   ]
  },
  {
   "cell_type": "code",
   "execution_count": null,
   "metadata": {},
   "outputs": [],
   "source": [
    "def __getitem__(self, idx):\n",
    "    img_path = os.path.join(self.img_dir, self.img_labels.iloc[idx, 0])\n",
    "    image = read_image(img_path)\n",
    "    label = self.img_labels.iloc[idx, 1]\n",
    "    if self.transform:\n",
    "        image = self.transform(image)\n",
    "    if self.target_transform:\n",
    "        label = self.target_transform(label)\n",
    "    sample = {\"image\": image, \"label\": label}\n",
    "    return sample"
   ]
  },
  {
   "cell_type": "markdown",
   "metadata": {},
   "source": [
    "# DataLoader로 학습용 데이터 준비하기\n",
    "\n",
    "Dataset은 데이터셋의 feature를 가져오고 하나의 샘플에 label을 지정하는 일을 한번에 한다.\n",
    "\n",
    "모델을 학습 시, 샘플을 minibatch로 전달하고, 매 epoch 마다 데이터를 다시 섞어서 overfit을 막고, python의 multiprocessing을 사용하여 데이터 검색 속도를 높이려고 한다.\n",
    "\n",
    "DataLoader는 간단한 API로 복잡한 과정들을 추상화한 iterable 객체이다."
   ]
  },
  {
   "cell_type": "code",
   "execution_count": 9,
   "metadata": {},
   "outputs": [],
   "source": [
    "from torch.utils.data import DataLoader\n",
    "\n",
    "train_dataloader = DataLoader(training_data, batch_size=64, shuffle=True)\n",
    "test_dataloader = DataLoader(test_data, batch_size=64, shuffle=True)"
   ]
  },
  {
   "cell_type": "markdown",
   "metadata": {},
   "source": [
    "# DataLoader를 통해 iterate 하기\n",
    "\n",
    "DataLoader에 데이터셋을 불러온 뒤에는 데이터셋을 순회할 수 있음.\n",
    "\n",
    "train_features 와 train_labels 의 묶음(batch)를 반환\n",
    "shuffle=True 이므로 모든 배치를 순회한 뒤 데이터가 섞임."
   ]
  },
  {
   "cell_type": "code",
   "execution_count": 19,
   "metadata": {},
   "outputs": [
    {
     "name": "stdout",
     "output_type": "stream",
     "text": [
      "Feature batch shape: torch.Size([64, 1, 28, 28])\n",
      "Labels batch shape: torch.Size([64])\n"
     ]
    },
    {
     "data": {
      "image/png": "[encoded data removed]",
      "text/plain": [
       "<Figure size 432x288 with 1 Axes>"
      ]
     },
     "metadata": {
      "needs_background": "light"
     },
     "output_type": "display_data"
    },
    {
     "name": "stdout",
     "output_type": "stream",
     "text": [
      "Label: 5\n"
     ]
    }
   ],
   "source": [
    "# 이미지와 label을 표시\n",
    "train_features, train_labels = next(iter(train_dataloader))\n",
    "print(f'Feature batch shape: {train_features.size()}')\n",
    "print(f'Labels batch shape: {train_labels.size()}')\n",
    "\n",
    "img = train_features[0].squeeze()\n",
    "label = train_labels[0]\n",
    "\n",
    "plt.imshow(img, cmap='gray')\n",
    "plt.show()\n",
    "\n",
    "print(f'Label: {label}')"
   ]
  }
 ],
 "metadata": {
  "kernelspec": {
   "display_name": "Python 3.9.12 ('base')",
   "language": "python",
   "name": "python3"
  },
  "language_info": {
   "codemirror_mode": {
    "name": "ipython",
    "version": 3
   },
   "file_extension": ".py",
   "mimetype": "text/x-python",
   "name": "python",
   "nbconvert_exporter": "python",
   "pygments_lexer": "ipython3",
   "version": "3.9.12"
  },
  "orig_nbformat": 4,
  "vscode": {
   "interpreter": {
    "hash": "704802e396c47ec2fbe49fdd63907b8569bda7598820a76a954d72ad341bac6c"
   }
  }
 },
 "nbformat": 4,
 "nbformat_minor": 2
}
