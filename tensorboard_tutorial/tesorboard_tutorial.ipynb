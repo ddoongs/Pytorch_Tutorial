{
 "cells": [
  {
   "cell_type": "markdown",
   "metadata": {},
   "source": [
    "# Tensorboard로 모델, 데이터, 학습 시각화하기\n",
    "\n",
    "진행 상황을 확인하기 위해, 학습이 진행 중일 때 학습이 잘 되고 있는지를 알아보기 위해 몇몇 수치들을 출력해야 한다. \n",
    "\n",
    "PyTorch는 학습 내역을 시각화하는 도구인 TensorBoard와 통합되어있다.\n",
    "\n",
    "이 튜토리얼에서는 PyTorch의 torchvision.datasets에서 사용 가능한 Fashion-MNIST dataset으로 일부 기능을 설명한다."
   ]
  },
  {
   "cell_type": "markdown",
   "metadata": {},
   "source": [
    "# 개요\n",
    "\n",
    "1. 데이터를 읽고 적절히 변환한다.\n",
    "2. TensorBoard를 set up\n",
    "3. TensorBoard에 write\n",
    "4. TensorBoard를 사용하여 모델 구조를 살펴본다.\n",
    "5. 코드를 추가하여 TensorBoard에서 이전 튜토리얼에서 만든 시각화의 interactive 버전을 만든다.\n",
    "   1. 학습 데이터를 검사(inspect)하는 몇 가지 방법\n",
    "   2. 학습에 따른 모델의 성능을 추적(track)하는 방법\n",
    "   3. 학습이 완료된 모델의 성능을 평가(assess)하는 방법"
   ]
  },
  {
   "cell_type": "code",
   "execution_count": 2,
   "metadata": {},
   "outputs": [],
   "source": [
    "# imports\n",
    "\n",
    "import matplotlib.pyplot as plt\n",
    "import numpy as np\n",
    "\n",
    "import torch\n",
    "import torchvision\n",
    "import torchvision.transforms as transforms\n",
    "\n",
    "import torch.nn as nn\n",
    "import torch.nn.functional as F\n",
    "import torch.optim as optim"
   ]
  },
  {
   "cell_type": "code",
   "execution_count": 5,
   "metadata": {},
   "outputs": [],
   "source": [
    "# transforms\n",
    "\n",
    "transform = transforms.Compose(\n",
    "    [transforms.ToTensor(), # 0~1의 범위를 가지도록 정규화가 된다.\n",
    "    transforms.Normalize((0.5,), (0.5,))\n",
    "    # transforms.Normalize((r채널, g채널, b채널), (r채널 표준편차, g채널 표편, b채널 표편))\n",
    "    ]\n",
    ")"
   ]
  },
  {
   "cell_type": "code",
   "execution_count": 6,
   "metadata": {},
   "outputs": [],
   "source": [
    "# datasets\n",
    "\n",
    "trainset = torchvision.datasets.FashionMNIST('/Users/junghwankim/Desktop/pytorch_tutorial/data',\n",
    "    download= True,\n",
    "    train= True,\n",
    "    transform=transform)\n",
    "\n",
    "testset = torchvision.datasets.FashionMNIST('/Users/junghwankim/Desktop/pytorch_tutorial/data',\n",
    "    download=True,\n",
    "    train=False,\n",
    "    transform=transform)"
   ]
  },
  {
   "cell_type": "code",
   "execution_count": 7,
   "metadata": {},
   "outputs": [],
   "source": [
    "# dataloaders\n",
    "\n",
    "from random import shuffle\n",
    "\n",
    "\n",
    "trainloader = torch.utils.data.DataLoader(trainset, batch_size=4, shuffle=True, num_workers=2)\n",
    "testloader = torch.utils.data.DataLoader(testset, batch_size=4, shuffle=False, num_workers=2)"
   ]
  },
  {
   "cell_type": "code",
   "execution_count": 8,
   "metadata": {},
   "outputs": [],
   "source": [
    "# classification 결과를 위한 상수\n",
    "classes = ('T-shirt/top', 'Trouser', 'Pullover', 'Dress', 'Coat',\n",
    "        'Sandal', 'Shirt', 'Sneaker', 'Bag', 'Ankle Boot')"
   ]
  },
  {
   "cell_type": "code",
   "execution_count": 10,
   "metadata": {},
   "outputs": [],
   "source": [
    "# image를 보여주기 위한 helper function\n",
    "# (아래 'plot_classes_preds' 함수에서 사용함)\n",
    "\n",
    "def matplotlib_imshow(img, one_channel=False):\n",
    "    if one_channel:\n",
    "        img = img.mean(dim=0)\n",
    "    img = img / 2 + 0.5 # unnormalize\n",
    "    npimg = img.numpy()\n",
    "    if one_channel:\n",
    "        plt.imshow(npimg, cmap = 'Greys')\n",
    "    else:\n",
    "        plt.imshow(np.transpose(npimg, (1, 2, 0)))\n"
   ]
  },
  {
   "cell_type": "markdown",
   "metadata": {},
   "source": [
    "이전 튜토리얼과 유사한 모델 구조를 정의하되, 이미지의 채널이 3개에서 1개로, 크기가 (32,32)에서 (28,28)로 변경된 것을 적용할 수 있도록 약간만 수정."
   ]
  },
  {
   "cell_type": "code",
   "execution_count": 12,
   "metadata": {},
   "outputs": [],
   "source": [
    "class Net(nn.Module):\n",
    "    def __init__(self):\n",
    "        super(Net, self).__init__()\n",
    "        self.conv1 = nn.Conv2d(1, 6, 5)\n",
    "        self.pool = nn.MaxPool2d(2,2)\n",
    "        self.conv2 = nn.Conv2d(6, 16, 5)\n",
    "        self.fc1 = nn.Linear(16*4*4, 120)\n",
    "        self.fc2 = nn.Linear(120, 84)\n",
    "        self.fc3 = nn.Linear(84, 10)\n",
    "    \n",
    "    def forward(self, x):\n",
    "        x = self.pool(F.relu(self.conv1(x)))\n",
    "        x = self.pool(F.relu(self.conv2(x)))\n",
    "        x = x.view(-1, 16*4*4)\n",
    "        x = F.relu(self.fc1(x))\n",
    "        x = F.relu(self.fc2(x))\n",
    "        x = self.fc3(x)\n",
    "        return x"
   ]
  },
  {
   "cell_type": "code",
   "execution_count": 13,
   "metadata": {},
   "outputs": [],
   "source": [
    "net = Net()"
   ]
  },
  {
   "cell_type": "code",
   "execution_count": 14,
   "metadata": {},
   "outputs": [],
   "source": [
    "criterion = nn.CrossEntropyLoss()\n",
    "optimizer = optim.SGD(net.parameters(), lr=0.001, momentum=0.9)"
   ]
  },
  {
   "cell_type": "markdown",
   "metadata": {},
   "source": [
    "# 1. TensorBoard 설정\n",
    "\n",
    "이제 torch.utils의 tensorboard를 불러오고, TensorBoard에 정보를 제공(write)하는 SummaryWriter를 주요한 객체인 SummaryWriter를 정희하여 TensorBoard를 설정합니다."
   ]
  },
  {
   "cell_type": "code",
   "execution_count": 16,
   "metadata": {},
   "outputs": [],
   "source": [
    "from torch.utils.tensorboard import SummaryWriter\n",
    "\n",
    "# 기본 'log_dir'은 'runs'이며, 여기서는 더 구체적으로 지정\n",
    "writer = SummaryWriter('runs/fashion_mnist_experiment_1')\n",
    "# 4번 줄을 통해서 runs/fashion_mnist_experiment_1 폴더를 생성"
   ]
  },
  {
   "cell_type": "markdown",
   "metadata": {},
   "source": [
    "# 2. TensorBoard에 기록하기\n",
    "\n",
    "이제 TensorBoard에 이미지(구체적으로는 make_grid를 사용하여 grid)를 써보겠습니다."
   ]
  },
  {
   "cell_type": "code",
   "execution_count": 17,
   "metadata": {},
   "outputs": [
    {
     "data": {
      "image/png": "[encoded data removed]",
      "text/plain": [
       "<Figure size 432x288 with 1 Axes>"
      ]
     },
     "metadata": {
      "needs_background": "light"
     },
     "output_type": "display_data"
    }
   ],
   "source": [
    "# 임의의 학습 이미지를 가져온다.\n",
    "dataiter = iter(trainloader)\n",
    "images, labels = dataiter.next()\n",
    "\n",
    "# 이미지 그리드를 만든다.\n",
    "img_grid = torchvision.utils.make_grid(images)\n",
    "\n",
    "# 이미지를 보여준다.\n",
    "matplotlib_imshow(img_grid, one_channel=True)\n",
    "\n",
    "# tensorboard에 기록한다.\n",
    "writer.add_image('four_fashion_mnist_images', img_grid)"
   ]
  },
  {
   "cell_type": "code",
   "execution_count": 44,
   "metadata": {},
   "outputs": [
    {
     "name": "stdout",
     "output_type": "stream",
     "text": [
      "TensorFlow installation not found - running with reduced feature set.\n",
      "\n",
      "NOTE: Using experimental fast data loading logic. To disable, pass\n",
      "    \"--load_fast=false\" and report issues on GitHub. More details:\n",
      "    https://github.com/tensorflow/tensorboard/issues/4784\n",
      "\n",
      "Serving TensorBoard on localhost; to expose to the network, use a proxy or pass --bind_all\n",
      "TensorBoard 2.10.0 at http://localhost:6006/ (Press CTRL+C to quit)\n",
      "^C\n"
     ]
    }
   ],
   "source": [
    "# tensorboard 커맨드 실행 명령어\n",
    "!tensorboard --logdir=runs"
   ]
  },
  {
   "cell_type": "markdown",
   "metadata": {},
   "source": [
    "# 3. TensorBoard를 사용하여 모델 살펴보기\n",
    "\n",
    "Tensorboard의 강점 중 하나는 복잡한 모델 구조를 시각화하는 기능이다. 지금까지 만든 모델을 시각화해보자."
   ]
  },
  {
   "cell_type": "code",
   "execution_count": 21,
   "metadata": {},
   "outputs": [],
   "source": [
    "writer.add_graph(net, images)\n",
    "writer.close()"
   ]
  },
  {
   "cell_type": "markdown",
   "metadata": {},
   "source": [
    "텐서보드는 이미지 데이터와 같은 고차워 데이터를 저차원 공간에 시각화하는데 매우 편리한 기능들을 제공한다. 앞으로 이 내용을 알아보겠다."
   ]
  },
  {
   "cell_type": "markdown",
   "metadata": {},
   "source": [
    "# 4. TensorBoard에 'Projector' 추가하기\n",
    "\n",
    "add_embedding method를 통해 고차원 데이터의 저차원 표현을 시각화할 수 있다."
   ]
  },
  {
   "cell_type": "code",
   "execution_count": 23,
   "metadata": {},
   "outputs": [],
   "source": [
    "# helper function\n",
    "\n",
    "def select_n_random(data, labels, n = 100):\n",
    "    '''\n",
    "    데이터셋에서 n개의 임의의 데이터포인트와 그에 해당하는 라벨을 선택\n",
    "    '''\n",
    "\n",
    "    assert len(data) == len(labels)\n",
    "\n",
    "    perm = torch.randperm(len(data))\n",
    "    return data[perm][:n], labels[perm][:n]"
   ]
  },
  {
   "cell_type": "code",
   "execution_count": 24,
   "metadata": {},
   "outputs": [],
   "source": [
    "# 임의의 이미지들과 정답 인덱스를 선택\n",
    "images, labels = select_n_random(trainset.data, trainset.targets)"
   ]
  },
  {
   "cell_type": "code",
   "execution_count": 25,
   "metadata": {},
   "outputs": [],
   "source": [
    "# 각 이미지의 class label을 가져온다.\n",
    "\n",
    "class_labels = [classes[lab] for lab in labels]"
   ]
  },
  {
   "cell_type": "code",
   "execution_count": 26,
   "metadata": {},
   "outputs": [],
   "source": [
    "# embedding 내역을 기록\n",
    "\n",
    "features = images.view(-1, 28 * 28)\n",
    "writer.add_embedding(features,\n",
    "                    metadata=class_labels,\n",
    "                    label_img=images.unsqueeze(1))\n",
    "writer.close()"
   ]
  },
  {
   "cell_type": "markdown",
   "metadata": {},
   "source": [
    "# 5. TensorBoard로 모델 학습 추적하기\n",
    "\n",
    "이전 예제에서는 단순히 모델 학습 중 running loss를 2000번 바복할 때마다 출력하기만 했다. \n",
    "\n",
    "이제는 tensorboard에 학습 중 손실을 기록하는 것 대신 plot_classes_preds 함수를 통해 모델의 예측 결과를 함께 볼 수 있게 하자."
   ]
  },
  {
   "cell_type": "code",
   "execution_count": 28,
   "metadata": {},
   "outputs": [],
   "source": [
    "# helper function\n",
    "\n",
    "def images_to_probs(net, images):\n",
    "    '''\n",
    "    학습된 신경망과 이미지 목록으로부터 예측 결과 및 확률을 생성\n",
    "    '''\n",
    "    output = net(images)\n",
    "    # convert output probabilities to predicted class\n",
    "    _, preds_tensor = torch.max(output, 1)\n",
    "    preds = np.squeeze(preds_tensor.numpy())\n",
    "    return preds, [F.softmax(el, dim=0)[i].item() for i, el in zip(preds, output)]\n",
    "    \n"
   ]
  },
  {
   "cell_type": "code",
   "execution_count": 29,
   "metadata": {},
   "outputs": [],
   "source": [
    "def plot_classes_preds(net, images, labels):\n",
    "    '''\n",
    "    학습된 신경망과 배치로부터 가져온 이미지/라벨을 사용하여 matplotlib Figure를 생성한다.\n",
    "    이는 신경망의 예측 결과/확률과 함께 정답을 보여주며, 예측 결과가 맞았는지 여부에 따라 색을 다르게 표시한다.\n",
    "    'images_to_probs'함수를 사용한다.\n",
    "    '''\n",
    "    preds, probs = images_to_probs(net, images)\n",
    "    # 배치에서 이미지를 가져와 예측 결과/정답과 함께 표시 한다.\n",
    "    fig = plt.figure(figsize=(12,48))\n",
    "    for idx in np.arange(4):\n",
    "        ax = fig.add_subplot(1, 4, idx+1, xticks=[], yticks=[])\n",
    "        matplotlib_imshow(images[idx], one_channel=True)\n",
    "        ax.set_title(\"{0}, {1:.1f}%\\n(label: {2}\".format(classes[preds[idx]], probs[idx]*100.0, classes[labels[idx]]), color=('green'if preds[idx]==labels[idx].item() else 'red'))\n",
    "    return fig"
   ]
  },
  {
   "cell_type": "markdown",
   "metadata": {},
   "source": [
    "마지막으로, 이전 튜토리얼과 동일한 모델 학습 코드에서 1000배치마다 콘솔에 출력하는 대신에 TensorBoard에 결과를 기록하도록 하여 학습을 해보자 : 이는 add_scalar 함수를 사용\n",
    "\n",
    "또한 학습을 진행하며 배치에 포함된 4개의 이미지에 대한 모델의 예측 결과와 정답을 비교하여 보여주는 이미지를 생성하도록 하겠다."
   ]
  },
  {
   "cell_type": "code",
   "execution_count": 30,
   "metadata": {},
   "outputs": [
    {
     "name": "stdout",
     "output_type": "stream",
     "text": [
      "finish training\n"
     ]
    }
   ],
   "source": [
    "running_loss = 0.0\n",
    "for epoch in range(1): #데이터셋을 여러 번 반복\n",
    "    for i, data in enumerate(trainloader, 0):\n",
    "        # [inputs, labels]의 목록인 data로부터 입력 받은 후\n",
    "        inputs, labels = data\n",
    "        # gradient 매개변수를 0으로 만들고\n",
    "        optimizer.zero_grad()\n",
    "\n",
    "        # 순전파 + 역전파 + 최적화를 한 후\n",
    "        outputs = net(inputs)\n",
    "        loss = criterion(outputs, labels)\n",
    "        loss.backward()\n",
    "        optimizer.step()\n",
    "\n",
    "        running_loss += loss.item()\n",
    "        if i % 1000 == 999: #매 1000 배치마다\n",
    "            # 학습 중 running loss를 기록\n",
    "            writer.add_scalar('training loss', running_loss / 1000, epoch * len(trainloader) + i)\n",
    "            # 무작위 미니배치에 대한 모델의 예측 결과를 보여주게 matplotlib figure를 기록\n",
    "            writer.add_figure('predictions vs actuals', plot_classes_preds(net, inputs, labels), global_step=epoch * len(trainloader) + i)\n",
    "            running_loss = 0.0\n",
    "\n",
    "print('finish training')"
   ]
  },
  {
   "cell_type": "markdown",
   "metadata": {},
   "source": [
    "# 6. TensorBoard로 학습된 모델 평가하기"
   ]
  },
  {
   "cell_type": "code",
   "execution_count": 40,
   "metadata": {},
   "outputs": [],
   "source": [
    "# 1. 예측 확률을 test_size * num_classes 텐서로 가져온다.\n",
    "# 2. 예측 결과를 test_size 텐서로 가져온다.\n",
    "# 실행하는데 10초 이하 소요\n",
    "\n",
    "class_probs = []\n",
    "class_label = []\n",
    "\n",
    "with torch.no_grad():\n",
    "    for data in testloader:\n",
    "        images, labels = data\n",
    "        output = net(images)\n",
    "        class_probs_batch = [F.softmax(el, dim=0) for el in output]\n",
    "\n",
    "        class_probs.append(class_probs_batch)\n",
    "        class_label.append(labels)\n",
    "\n",
    "test_probs = torch.cat([torch.stack(batch)for batch in class_probs])\n",
    "test_label = torch.cat(class_label)"
   ]
  },
  {
   "cell_type": "code",
   "execution_count": 42,
   "metadata": {},
   "outputs": [],
   "source": [
    "# helper function\n",
    "\n",
    "def add_pr_curve_tensorboard(class_index, test_probs, test_label, global_step=0):\n",
    "    ''' \n",
    "    0~9까지의 'class_index'를 가져온 후 해당 precision-recall 곡선을 그린다.\n",
    "    '''\n",
    "    tensorboard_truth = test_label == class_index\n",
    "    tensorboard_probs = test_probs[:, class_index]\n",
    "\n",
    "    writer.add_pr_curve(classes[class_index], tensorboard_truth, tensorboard_probs, global_step=global_step)\n",
    "    writer.close()"
   ]
  },
  {
   "cell_type": "code",
   "execution_count": 43,
   "metadata": {},
   "outputs": [],
   "source": [
    "# 모든 precision-recall 곡선을 그린다.\n",
    "for i in range(len(classes)):\n",
    "    add_pr_curve_tensorboard(i, test_probs, test_label)"
   ]
  },
  {
   "cell_type": "code",
   "execution_count": null,
   "metadata": {},
   "outputs": [],
   "source": []
  }
 ],
 "metadata": {
  "kernelspec": {
   "display_name": "Python 3.9.12 ('base')",
   "language": "python",
   "name": "python3"
  },
  "language_info": {
   "codemirror_mode": {
    "name": "ipython",
    "version": 3
   },
   "file_extension": ".py",
   "mimetype": "text/x-python",
   "name": "python",
   "nbconvert_exporter": "python",
   "pygments_lexer": "ipython3",
   "version": "3.9.12"
  },
  "orig_nbformat": 4,
  "vscode": {
   "interpreter": {
    "hash": "704802e396c47ec2fbe49fdd63907b8569bda7598820a76a954d72ad341bac6c"
   }
  }
 },
 "nbformat": 4,
 "nbformat_minor": 2
}
