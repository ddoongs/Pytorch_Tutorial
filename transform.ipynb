{
 "cells": [
  {
   "cell_type": "markdown",
   "metadata": {},
   "source": [
    "# TRANSFORM data\n",
    "\n",
    "데이터는 항상 머신러닝 알고리즘 학습에 필요한 처리가 된 형태로 제공 x.\n",
    "transform을 통해 데이터를 조작하고 학습에 적합하게 만듬.\n",
    "\n",
    "TorchVision 데이터셋들은 변형 로직을 갖는, callable 객체를 받는 매개변수 두개(feature를 변형하기 위한 transform과 label을 변경하기 위한 target_transform)을 갖는다.\n",
    "-> torchvision.transforms 모듈은 몇 가지 transform을 제공\n",
    "\n",
    "FashionMNIST\n",
    "- PIL image 형식\n",
    "- label = integer\n",
    "- 학습을 하려면 normalize된 텐서 형태의 feature 필요 -> ToTensor 사용\n",
    "- 학습을 하려면 one-hot vector로 부호화된 텐서 형태의 label 필요 -> Lambda 사용"
   ]
  },
  {
   "cell_type": "code",
   "execution_count": 1,
   "metadata": {},
   "outputs": [],
   "source": [
    "import torch\n",
    "from torchvision import datasets\n",
    "from torchvision.transforms import ToTensor, Lambda\n",
    "\n",
    "ds = datasets.FashionMNIST(\n",
    "    root='data',\n",
    "    train=True,\n",
    "    download=True,\n",
    "    transform=ToTensor(),\n",
    "    target_transform=Lambda(lambda y: torch.zeros(10, dtype = torch.float).scatter_(0, torch.tensor(y), value=1))\n",
    ")"
   ]
  },
  {
   "cell_type": "markdown",
   "metadata": {},
   "source": [
    "# ToTensor()\n",
    "\n",
    "ToTensor()\n",
    "- PIL image 나 Numpy ndarray를 FloatTensor로 변환\n",
    "- 이미지의 픽셀의 intensity(크기) 값을 [0., 1.] 범위로 비례하여 scaling"
   ]
  },
  {
   "cell_type": "markdown",
   "metadata": {},
   "source": [
    "# Lambda transform\n",
    "\n",
    "Lambda transform은 사용자 정의 lambda function을 적용.\n",
    "여기서 정수 -> one-hot vector 함수를 정의\n",
    "\n",
    "크기가 10짜리 zero tensor 생성\n",
    "->\n",
    "scatter_ 호출로 주어진 정답 y에 해당하는 인덱스에 1을 할당"
   ]
  },
  {
   "cell_type": "code",
   "execution_count": null,
   "metadata": {},
   "outputs": [],
   "source": [
    "target_transform = Lambda(lambda y: torch.zeros(\n",
    "    10, dtype=torch.float).scatter_(dim=0, index=torch.tensor(y), value=1))"
   ]
  }
 ],
 "metadata": {
  "kernelspec": {
   "display_name": "Python 3.9.12 ('base')",
   "language": "python",
   "name": "python3"
  },
  "language_info": {
   "codemirror_mode": {
    "name": "ipython",
    "version": 3
   },
   "file_extension": ".py",
   "mimetype": "text/x-python",
   "name": "python",
   "nbconvert_exporter": "python",
   "pygments_lexer": "ipython3",
   "version": "3.9.12"
  },
  "orig_nbformat": 4,
  "vscode": {
   "interpreter": {
    "hash": "704802e396c47ec2fbe49fdd63907b8569bda7598820a76a954d72ad341bac6c"
   }
  }
 },
 "nbformat": 4,
 "nbformat_minor": 2
}
